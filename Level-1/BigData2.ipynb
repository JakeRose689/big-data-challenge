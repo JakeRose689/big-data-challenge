{
  "nbformat": 4,
  "nbformat_minor": 0,
  "metadata": {
    "colab": {
      "name": "BigData2.ipynb",
      "provenance": [],
      "collapsed_sections": []
    },
    "kernelspec": {
      "name": "python3",
      "display_name": "Python 3"
    },
    "language_info": {
      "name": "python"
    }
  },
  "cells": [
    {
      "cell_type": "code",
      "metadata": {
        "colab": {
          "base_uri": "https://localhost:8080/"
        },
        "id": "DDCVZGGxSEmW",
        "outputId": "b0498412-a582-49bc-fc71-d62f5991b42b"
      },
      "source": [
        "import os\n",
        "spark_version = 'spark-3.0.3'\n",
        "os.environ['SPARK_VERSION']=spark_version\n",
        "\n",
        "!apt-get update\n",
        "!apt-get install openjdk-8-jdk-headless -qq > /dev/null\n",
        "!wget -q http://www.apache.org/dist/spark/$SPARK_VERSION/$SPARK_VERSION-bin-hadoop2.7.tgz\n",
        "!tar xf $SPARK_VERSION-bin-hadoop2.7.tgz\n",
        "!pip install -q findspark\n",
        "\n",
        "os.environ[\"JAVA_HOME\"] = \"/usr/lib/jvm/java-8-openjdk-amd64\"\n",
        "os.environ[\"SPARK_HOME\"] = f\"/content/{spark_version}-bin-hadoop2.7\"\n",
        "\n",
        "import findspark\n",
        "findspark.init()"
      ],
      "execution_count": 1,
      "outputs": [
        {
          "output_type": "stream",
          "name": "stdout",
          "text": [
            "\r0% [Working]\r            \rIgn:1 https://developer.download.nvidia.com/compute/cuda/repos/ubuntu1804/x86_64  InRelease\n",
            "\r0% [Connecting to archive.ubuntu.com (91.189.88.142)] [Connecting to security.u\r                                                                               \rGet:2 https://cloud.r-project.org/bin/linux/ubuntu bionic-cran40/ InRelease [3,626 B]\n",
            "Ign:3 https://developer.download.nvidia.com/compute/machine-learning/repos/ubuntu1804/x86_64  InRelease\n",
            "Get:4 https://developer.download.nvidia.com/compute/cuda/repos/ubuntu1804/x86_64  Release [696 B]\n",
            "Hit:5 https://developer.download.nvidia.com/compute/machine-learning/repos/ubuntu1804/x86_64  Release\n",
            "Get:6 https://developer.download.nvidia.com/compute/cuda/repos/ubuntu1804/x86_64  Release.gpg [836 B]\n",
            "Get:7 http://security.ubuntu.com/ubuntu bionic-security InRelease [88.7 kB]\n",
            "Hit:8 http://archive.ubuntu.com/ubuntu bionic InRelease\n",
            "Get:9 http://archive.ubuntu.com/ubuntu bionic-updates InRelease [88.7 kB]\n",
            "Get:10 http://ppa.launchpad.net/c2d4u.team/c2d4u4.0+/ubuntu bionic InRelease [15.9 kB]\n",
            "Hit:12 http://ppa.launchpad.net/cran/libgit2/ubuntu bionic InRelease\n",
            "Get:13 http://archive.ubuntu.com/ubuntu bionic-backports InRelease [74.6 kB]\n",
            "Hit:14 http://ppa.launchpad.net/deadsnakes/ppa/ubuntu bionic InRelease\n",
            "Get:15 https://developer.download.nvidia.com/compute/cuda/repos/ubuntu1804/x86_64  Packages [829 kB]\n",
            "Hit:16 http://ppa.launchpad.net/graphics-drivers/ppa/ubuntu bionic InRelease\n",
            "Get:17 http://ppa.launchpad.net/c2d4u.team/c2d4u4.0+/ubuntu bionic/main Sources [1,813 kB]\n",
            "Get:18 http://security.ubuntu.com/ubuntu bionic-security/universe amd64 Packages [1,444 kB]\n",
            "Get:19 http://archive.ubuntu.com/ubuntu bionic-updates/universe amd64 Packages [2,225 kB]\n",
            "Get:20 http://security.ubuntu.com/ubuntu bionic-security/main amd64 Packages [2,450 kB]\n",
            "Get:21 http://security.ubuntu.com/ubuntu bionic-security/restricted amd64 Packages [687 kB]\n",
            "Get:22 http://ppa.launchpad.net/c2d4u.team/c2d4u4.0+/ubuntu bionic/main amd64 Packages [930 kB]\n",
            "Get:23 http://archive.ubuntu.com/ubuntu bionic-updates/restricted amd64 Packages [721 kB]\n",
            "Get:24 http://archive.ubuntu.com/ubuntu bionic-updates/main amd64 Packages [2,894 kB]\n",
            "Fetched 14.3 MB in 5s (2,746 kB/s)\n",
            "Reading package lists... Done\n"
          ]
        }
      ]
    },
    {
      "cell_type": "code",
      "metadata": {
        "colab": {
          "base_uri": "https://localhost:8080/"
        },
        "id": "vWK_KmwFSPgE",
        "outputId": "16f50756-20cb-4fbb-873c-790d713ee13b"
      },
      "source": [
        "!wget https://jdbc.postgresql.org/download/postgresql-42.2.9.jar"
      ],
      "execution_count": 2,
      "outputs": [
        {
          "output_type": "stream",
          "name": "stdout",
          "text": [
            "--2021-12-01 14:01:06--  https://jdbc.postgresql.org/download/postgresql-42.2.9.jar\n",
            "Resolving jdbc.postgresql.org (jdbc.postgresql.org)... 72.32.157.228, 2001:4800:3e1:1::228\n",
            "Connecting to jdbc.postgresql.org (jdbc.postgresql.org)|72.32.157.228|:443... connected.\n",
            "HTTP request sent, awaiting response... 200 OK\n",
            "Length: 914037 (893K) [application/java-archive]\n",
            "Saving to: ‘postgresql-42.2.9.jar’\n",
            "\n",
            "postgresql-42.2.9.j 100%[===================>] 892.61K  5.47MB/s    in 0.2s    \n",
            "\n",
            "2021-12-01 14:01:06 (5.47 MB/s) - ‘postgresql-42.2.9.jar’ saved [914037/914037]\n",
            "\n"
          ]
        }
      ]
    },
    {
      "cell_type": "code",
      "metadata": {
        "id": "nG9Lu0LrTLV4"
      },
      "source": [
        "# Start Spark session\n",
        "from pyspark.sql import SparkSession\n",
        "spark = SparkSession.builder.appName(\"Hashing\").getOrCreate()"
      ],
      "execution_count": 3,
      "outputs": []
    },
    {
      "cell_type": "code",
      "metadata": {
        "id": "g4wye8BdTM8P"
      },
      "source": [
        "from pyspark.ml.feature import HashingTF, IDF, Tokenizer, StopWordsRemover"
      ],
      "execution_count": 4,
      "outputs": []
    },
    {
      "cell_type": "code",
      "metadata": {
        "colab": {
          "base_uri": "https://localhost:8080/"
        },
        "id": "QxMQ6MUGTPMO",
        "outputId": "e6e39528-ebd2-41a5-b2ab-deee590a196d"
      },
      "source": [
        "from pyspark import SparkFiles\n",
        "url = \"https://s3.amazonaws.com/amazon-reviews-pds/tsv/amazon_reviews_us_Digital_Ebook_Purchase_v1_01.tsv.gz\"\n",
        "spark.sparkContext.addFile(url)\n",
        "df = spark.read.option(\"header\",\"true\").csv(SparkFiles.get(\"amazon_reviews_us_Digital_Ebook_Purchase_v1_01.tsv.gz\"), inferSchema=True, sep=\"\\t\")\n",
        "\n",
        "# Show DataFrame\n",
        "df.show(truncate=True)"
      ],
      "execution_count": 5,
      "outputs": [
        {
          "output_type": "stream",
          "name": "stdout",
          "text": [
            "+-----------+-----------+--------------+----------+--------------+--------------------+--------------------+-----------+-------------+-----------+----+-----------------+--------------------+--------------------+-----------+\n",
            "|marketplace|customer_id|     review_id|product_id|product_parent|       product_title|    product_category|star_rating|helpful_votes|total_votes|vine|verified_purchase|     review_headline|         review_body|review_date|\n",
            "+-----------+-----------+--------------+----------+--------------+--------------------+--------------------+-----------+-------------+-----------+----+-----------------+--------------------+--------------------+-----------+\n",
            "|         US|   33605939| RGYFDX8QXKEIR|B007KO2MLO|     328837464|           Big Maria|Digital_Ebook_Pur...|          4|            0|          0|   N|                N|              Quirky|Elmore Leonard me...| 2013-09-09|\n",
            "|         US|   34058393|R13CBGTMNV9R8Z|B005FLODDE|     764276359|The Woman Who Was...|Digital_Ebook_Pur...|          4|            1|          2|   N|                Y|The Woman Who Was...|This book was ver...| 2013-09-09|\n",
            "|         US|   39601147| R7DRFHC0F71O0|B00EA3L35O|     535606445|Mary had A Sleepy...|Digital_Ebook_Pur...|          5|            0|          0|   N|                N|This Sleepy Sheep...|I had the opportu...| 2013-09-09|\n",
            "|         US|   17351407|R27LUKEXU3KBXQ|B00BL3JV50|     240053004|          Starstruck|Digital_Ebook_Pur...|          5|            1|          1|   N|                Y|Steamy and suspen...|What a great read...| 2013-09-09|\n",
            "|         US|   10463387|R1VXTPUYMNU687|B00CXU7U80|     931529805|The Complete Cona...|Digital_Ebook_Pur...|          5|            1|          2|   N|                N|          Barbarians|Barbarians need l...| 2013-09-09|\n",
            "|         US|   50484904|R30DKW1GJWLPZC|B004EWGS5G|     442453110|The Middle Passag...|Digital_Ebook_Pur...|          3|            1|          2|   N|                Y|            Menu....|It was okay obvio...| 2013-09-09|\n",
            "|         US|    7145636|R18DPFG2FALJI9|B00BNRJAT6|     856774152|Hide in Plain Sig...|Digital_Ebook_Pur...|          5|            0|          0|   N|                Y|        Awesome book|Very interesting ...| 2013-09-09|\n",
            "|         US|    6285538|R24D677N5WBW5Q|B007FZOXJM|       5589837|Face of Betrayal ...|Digital_Ebook_Pur...|          5|            0|          0|   N|                Y|    Face of betrayal|Really enjoyed th...| 2013-09-09|\n",
            "|         US|   10278048|R2FCJ9BQLSIOR3|B00B6AK7LU|     362701357|Final Justice (A ...|Digital_Ebook_Pur...|          5|            0|          0|   N|                Y|           Very good|I really liked th...| 2013-09-09|\n",
            "|         US|   16568972|R1R6K4MAKDWTXI|B00EVMMLU0|     342745087|Falling For My Hu...|Digital_Ebook_Pur...|          4|            0|          0|   N|                Y|Ouch! My neck is ...|Reading Callum an...| 2013-09-09|\n",
            "|         US|   26001763|R3R5DILCWM8J7B|B00E4W4984|     186117550|  Forgetting Tabitha|Digital_Ebook_Pur...|          5|            0|          0|   N|                Y|It was a wonderfu...|I really enjoyed ...| 2013-09-09|\n",
            "|         US|   48203259| RR5K72IZOCOFE|B005A1JBB8|     947574172|The Blacksmith's ...|Digital_Ebook_Pur...|          4|            0|          0|   N|                N|       Worth reading|Although not comp...| 2013-09-09|\n",
            "|         US|   45028038|R3K9PJU5GLDY3O|B0044DELIQ|     427899617|Vampire Vacation:...|Digital_Ebook_Pur...|          5|            1|          2|   N|                Y|      Very Good Romp|Enjoyed the chara...| 2013-09-09|\n",
            "|         US|   42554355|R1KTZMCDOJXAEK|B00DJQYATE|     184945574|By the Tail (Coug...|Digital_Ebook_Pur...|          5|            0|          0|   N|                N|    Love this Series|I love the Cougar...| 2013-09-09|\n",
            "|         US|   11251156|R3SBEH4Y3W9W11|B004XFYNNS|     820449163|The Kingdom (A Fa...|Digital_Ebook_Pur...|          5|            0|          0|   N|                Y|    Love this author|I really enjoy Cl...| 2013-09-09|\n",
            "|         US|   44677006|R3GB8WOHSWW2EG|B00A27Z6GO|     969993834|6 Erotic Bedtime ...|Digital_Ebook_Pur...|          3|            0|          0|   N|                Y|    Didn't finish...|I have to admit I...| 2013-09-09|\n",
            "|         US|   34645512| RDM68WMOEDNRJ|B008EGV4BQ|      36906356|The Purpose Drive...|Digital_Ebook_Pur...|          5|            0|          0|   N|                Y|Can't unread it now!|Thanx paster Rick...| 2013-09-09|\n",
            "|         US|   16137650|R3TW70YF2WZK9O|B00655U3WE|     941986263|Insurgent (Diverg...|Digital_Ebook_Pur...|          5|            0|          0|   N|                Y|Great second inst...|As with divergent...| 2013-09-09|\n",
            "|         US|    4514126|R39ESX43X1SA5T|B006NG0GXQ|     402593554|Forever His: A Ti...|Digital_Ebook_Pur...|          1|           36|         47|   N|                Y|   Completely absurd|From the time tha...| 2013-09-09|\n",
            "|         US|   44803855|R3MCA5W3BZ65OU|B008J4RPWA|     804503161|Summerset Abbey: ...|Digital_Ebook_Pur...|          5|            0|          0|   N|                Y|#2, just as good ...|I love the intera...| 2013-09-09|\n",
            "+-----------+-----------+--------------+----------+--------------+--------------------+--------------------+-----------+-------------+-----------+----+-----------------+--------------------+--------------------+-----------+\n",
            "only showing top 20 rows\n",
            "\n"
          ]
        }
      ]
    },
    {
      "cell_type": "code",
      "metadata": {
        "colab": {
          "base_uri": "https://localhost:8080/"
        },
        "id": "F2vKc27CTcew",
        "outputId": "645acba7-a088-4e28-ea87-0e558bd6c936"
      },
      "source": [
        "# Count the number of records (rows) in the dataset.\n",
        "df.count()"
      ],
      "execution_count": 6,
      "outputs": [
        {
          "output_type": "execute_result",
          "data": {
            "text/plain": [
              "5101693"
            ]
          },
          "metadata": {},
          "execution_count": 6
        }
      ]
    },
    {
      "cell_type": "code",
      "metadata": {
        "id": "583Kf5S0T7l-"
      },
      "source": [
        "## Transform the dataset to fit the tables in the schema file. Be sure the DataFrames match in data type and in column name."
      ],
      "execution_count": 7,
      "outputs": []
    },
    {
      "cell_type": "code",
      "metadata": {
        "colab": {
          "base_uri": "https://localhost:8080/"
        },
        "id": "c8vPpr5eUPNE",
        "outputId": "30880c86-c0b6-4ede-cf42-35663578655c"
      },
      "source": [
        "df.printSchema()"
      ],
      "execution_count": 8,
      "outputs": [
        {
          "output_type": "stream",
          "name": "stdout",
          "text": [
            "root\n",
            " |-- marketplace: string (nullable = true)\n",
            " |-- customer_id: integer (nullable = true)\n",
            " |-- review_id: string (nullable = true)\n",
            " |-- product_id: string (nullable = true)\n",
            " |-- product_parent: integer (nullable = true)\n",
            " |-- product_title: string (nullable = true)\n",
            " |-- product_category: string (nullable = true)\n",
            " |-- star_rating: integer (nullable = true)\n",
            " |-- helpful_votes: integer (nullable = true)\n",
            " |-- total_votes: integer (nullable = true)\n",
            " |-- vine: string (nullable = true)\n",
            " |-- verified_purchase: string (nullable = true)\n",
            " |-- review_headline: string (nullable = true)\n",
            " |-- review_body: string (nullable = true)\n",
            " |-- review_date: string (nullable = true)\n",
            "\n"
          ]
        }
      ]
    },
    {
      "cell_type": "code",
      "metadata": {
        "colab": {
          "base_uri": "https://localhost:8080/"
        },
        "id": "9DyapI7hUQx7",
        "outputId": "3337e7d2-bc34-4dab-de19-7e724cd9f964"
      },
      "source": [
        "# Review ID Table Creation\n",
        "# CREATE TABLE review_id_table (\n",
        "#   review_id TEXT PRIMARY KEY NOT NULL,\n",
        "#   customer_id INTEGER,\n",
        "#   product_id TEXT,\n",
        "#   product_parent INTEGER,\n",
        "#   review_date DATE -- this should be in the formate yyyy-mm-dd\n",
        "# );\n",
        "\n",
        "# Review_date in this table will need to be cast as a date to match the appropriate schema provided.\n",
        "\n",
        "review_id_table = df.select(['review_id', 'customer_id', 'product_id', 'product_parent', 'review_date'])\n",
        "review_id_table.show()"
      ],
      "execution_count": 9,
      "outputs": [
        {
          "output_type": "stream",
          "name": "stdout",
          "text": [
            "+--------------+-----------+----------+--------------+-----------+\n",
            "|     review_id|customer_id|product_id|product_parent|review_date|\n",
            "+--------------+-----------+----------+--------------+-----------+\n",
            "| RGYFDX8QXKEIR|   33605939|B007KO2MLO|     328837464| 2013-09-09|\n",
            "|R13CBGTMNV9R8Z|   34058393|B005FLODDE|     764276359| 2013-09-09|\n",
            "| R7DRFHC0F71O0|   39601147|B00EA3L35O|     535606445| 2013-09-09|\n",
            "|R27LUKEXU3KBXQ|   17351407|B00BL3JV50|     240053004| 2013-09-09|\n",
            "|R1VXTPUYMNU687|   10463387|B00CXU7U80|     931529805| 2013-09-09|\n",
            "|R30DKW1GJWLPZC|   50484904|B004EWGS5G|     442453110| 2013-09-09|\n",
            "|R18DPFG2FALJI9|    7145636|B00BNRJAT6|     856774152| 2013-09-09|\n",
            "|R24D677N5WBW5Q|    6285538|B007FZOXJM|       5589837| 2013-09-09|\n",
            "|R2FCJ9BQLSIOR3|   10278048|B00B6AK7LU|     362701357| 2013-09-09|\n",
            "|R1R6K4MAKDWTXI|   16568972|B00EVMMLU0|     342745087| 2013-09-09|\n",
            "|R3R5DILCWM8J7B|   26001763|B00E4W4984|     186117550| 2013-09-09|\n",
            "| RR5K72IZOCOFE|   48203259|B005A1JBB8|     947574172| 2013-09-09|\n",
            "|R3K9PJU5GLDY3O|   45028038|B0044DELIQ|     427899617| 2013-09-09|\n",
            "|R1KTZMCDOJXAEK|   42554355|B00DJQYATE|     184945574| 2013-09-09|\n",
            "|R3SBEH4Y3W9W11|   11251156|B004XFYNNS|     820449163| 2013-09-09|\n",
            "|R3GB8WOHSWW2EG|   44677006|B00A27Z6GO|     969993834| 2013-09-09|\n",
            "| RDM68WMOEDNRJ|   34645512|B008EGV4BQ|      36906356| 2013-09-09|\n",
            "|R3TW70YF2WZK9O|   16137650|B00655U3WE|     941986263| 2013-09-09|\n",
            "|R39ESX43X1SA5T|    4514126|B006NG0GXQ|     402593554| 2013-09-09|\n",
            "|R3MCA5W3BZ65OU|   44803855|B008J4RPWA|     804503161| 2013-09-09|\n",
            "+--------------+-----------+----------+--------------+-----------+\n",
            "only showing top 20 rows\n",
            "\n"
          ]
        }
      ]
    },
    {
      "cell_type": "code",
      "metadata": {
        "id": "Mp45WXbbUUy1"
      },
      "source": [
        "from pyspark.sql.types import * \n",
        "review_id_table = review_id_table.withColumn(\"review_date\",review_id_table[\"review_date\"].cast(DateType()))"
      ],
      "execution_count": 10,
      "outputs": []
    },
    {
      "cell_type": "code",
      "metadata": {
        "colab": {
          "base_uri": "https://localhost:8080/"
        },
        "id": "SiO-IOheUXzx",
        "outputId": "81b27909-9ba7-4a7b-dfe4-3dc49529d948"
      },
      "source": [
        "# -- This table will contain only unique values\n",
        "# CREATE TABLE products (\n",
        "#   product_id TEXT PRIMARY KEY NOT NULL UNIQUE,\n",
        "#   product_title TEXT\n",
        "# );\n",
        "\n",
        "# No data types in the desired table are different then the original DF. Moving on!\n",
        "\n",
        "products = df.select(['product_id', 'product_title'])\n",
        "products.show()"
      ],
      "execution_count": 11,
      "outputs": [
        {
          "output_type": "stream",
          "name": "stdout",
          "text": [
            "+----------+--------------------+\n",
            "|product_id|       product_title|\n",
            "+----------+--------------------+\n",
            "|B007KO2MLO|           Big Maria|\n",
            "|B005FLODDE|The Woman Who Was...|\n",
            "|B00EA3L35O|Mary had A Sleepy...|\n",
            "|B00BL3JV50|          Starstruck|\n",
            "|B00CXU7U80|The Complete Cona...|\n",
            "|B004EWGS5G|The Middle Passag...|\n",
            "|B00BNRJAT6|Hide in Plain Sig...|\n",
            "|B007FZOXJM|Face of Betrayal ...|\n",
            "|B00B6AK7LU|Final Justice (A ...|\n",
            "|B00EVMMLU0|Falling For My Hu...|\n",
            "|B00E4W4984|  Forgetting Tabitha|\n",
            "|B005A1JBB8|The Blacksmith's ...|\n",
            "|B0044DELIQ|Vampire Vacation:...|\n",
            "|B00DJQYATE|By the Tail (Coug...|\n",
            "|B004XFYNNS|The Kingdom (A Fa...|\n",
            "|B00A27Z6GO|6 Erotic Bedtime ...|\n",
            "|B008EGV4BQ|The Purpose Drive...|\n",
            "|B00655U3WE|Insurgent (Diverg...|\n",
            "|B006NG0GXQ|Forever His: A Ti...|\n",
            "|B008J4RPWA|Summerset Abbey: ...|\n",
            "+----------+--------------------+\n",
            "only showing top 20 rows\n",
            "\n"
          ]
        }
      ]
    },
    {
      "cell_type": "code",
      "metadata": {
        "colab": {
          "base_uri": "https://localhost:8080/"
        },
        "id": "O0FG-laSUbNt",
        "outputId": "d83deea5-2d1c-4515-9f93-4a5612616f50"
      },
      "source": [
        "# -- Customer table for first data set\n",
        "# CREATE TABLE customers (\n",
        "#   customer_id INT PRIMARY KEY NOT NULL UNIQUE,\n",
        "#   customer_count INT\n",
        "# );\n",
        "\n",
        "# I know customer_id is an integer, but don't know with 100% certainty what data type the agg function will populate into customer_count. \n",
        "\n",
        "customers = df.groupby('customer_id').agg({'customer_id':'count'}).withColumnRenamed('count(customer_id)', 'customer_count')\n",
        "customers.show()"
      ],
      "execution_count": 12,
      "outputs": [
        {
          "output_type": "stream",
          "name": "stdout",
          "text": [
            "+-----------+--------------+\n",
            "|customer_id|customer_count|\n",
            "+-----------+--------------+\n",
            "|   27134317|           306|\n",
            "|   36063094|            15|\n",
            "|   49422311|             1|\n",
            "|   18978114|             1|\n",
            "|   13455482|             2|\n",
            "|   32153206|             1|\n",
            "|   10274872|             4|\n",
            "|   20977654|             1|\n",
            "|   48042607|             1|\n",
            "|   11376183|             7|\n",
            "|   31762963|             1|\n",
            "|   11481508|             4|\n",
            "|   12362676|             2|\n",
            "|   31176171|            10|\n",
            "|   44699860|            23|\n",
            "|   52734389|             8|\n",
            "|   24303040|             3|\n",
            "|   26322451|            77|\n",
            "|   14521576|            30|\n",
            "|   44269342|            10|\n",
            "+-----------+--------------+\n",
            "only showing top 20 rows\n",
            "\n"
          ]
        }
      ]
    },
    {
      "cell_type": "code",
      "metadata": {
        "id": "B2lHypQrUdPR"
      },
      "source": [
        "# I know from the previous notebook that the .agg() function will return long, and I need the data type to be integer. \n",
        "customers = customers.withColumn(\"customer_count \",customers[\"customer_count\"].cast(IntegerType()))"
      ],
      "execution_count": 13,
      "outputs": []
    },
    {
      "cell_type": "code",
      "metadata": {
        "colab": {
          "base_uri": "https://localhost:8080/"
        },
        "id": "W62XYjuXUzJs",
        "outputId": "4b1fde07-0c43-41fa-d057-71bd35955773"
      },
      "source": [
        "# -- vine table\n",
        "# CREATE TABLE vine_table (\n",
        "#   review_id TEXT PRIMARY KEY,\n",
        "#   star_rating INTEGER,\n",
        "#   helpful_votes INTEGER,\n",
        "#   total_votes INTEGER,\n",
        "#   vine TEXT\n",
        "# );\n",
        "\n",
        "# All of the data types in the original DF match the schem provided to create this table, so no casting will be necessary.\n",
        "\n",
        "vine_table = df.select(['review_id', 'star_rating', 'helpful_votes', 'total_votes', 'vine'])\n",
        "vine_table.show()"
      ],
      "execution_count": 14,
      "outputs": [
        {
          "output_type": "stream",
          "name": "stdout",
          "text": [
            "+--------------+-----------+-------------+-----------+----+\n",
            "|     review_id|star_rating|helpful_votes|total_votes|vine|\n",
            "+--------------+-----------+-------------+-----------+----+\n",
            "| RGYFDX8QXKEIR|          4|            0|          0|   N|\n",
            "|R13CBGTMNV9R8Z|          4|            1|          2|   N|\n",
            "| R7DRFHC0F71O0|          5|            0|          0|   N|\n",
            "|R27LUKEXU3KBXQ|          5|            1|          1|   N|\n",
            "|R1VXTPUYMNU687|          5|            1|          2|   N|\n",
            "|R30DKW1GJWLPZC|          3|            1|          2|   N|\n",
            "|R18DPFG2FALJI9|          5|            0|          0|   N|\n",
            "|R24D677N5WBW5Q|          5|            0|          0|   N|\n",
            "|R2FCJ9BQLSIOR3|          5|            0|          0|   N|\n",
            "|R1R6K4MAKDWTXI|          4|            0|          0|   N|\n",
            "|R3R5DILCWM8J7B|          5|            0|          0|   N|\n",
            "| RR5K72IZOCOFE|          4|            0|          0|   N|\n",
            "|R3K9PJU5GLDY3O|          5|            1|          2|   N|\n",
            "|R1KTZMCDOJXAEK|          5|            0|          0|   N|\n",
            "|R3SBEH4Y3W9W11|          5|            0|          0|   N|\n",
            "|R3GB8WOHSWW2EG|          3|            0|          0|   N|\n",
            "| RDM68WMOEDNRJ|          5|            0|          0|   N|\n",
            "|R3TW70YF2WZK9O|          5|            0|          0|   N|\n",
            "|R39ESX43X1SA5T|          1|           36|         47|   N|\n",
            "|R3MCA5W3BZ65OU|          5|            0|          0|   N|\n",
            "+--------------+-----------+-------------+-----------+----+\n",
            "only showing top 20 rows\n",
            "\n"
          ]
        }
      ]
    },
    {
      "cell_type": "code",
      "metadata": {
        "id": "ebd4pZzzU088"
      },
      "source": [
        "# Pushing all these tables up to an RDS instance\n",
        "mode = \"append\"\n",
        "jdbc_url = \"jdbc:postgresql://<connection>/<dbname>\"\n",
        "config =  {\"user\":\"<user>\",\n",
        "         \"password\":\"<password>\",\n",
        "         \"driver\":\"org.postrgresql.Driver\"}"
      ],
      "execution_count": 15,
      "outputs": []
    },
    {
      "cell_type": "code",
      "metadata": {
        "id": "Rg6vQD8gU4mA"
      },
      "source": [
        "# Table 1\n",
        "review_id_table.write.jdbc(url=jdbc_url, table='review_id_table', mode=mode, properties=config)"
      ],
      "execution_count": null,
      "outputs": []
    },
    {
      "cell_type": "code",
      "metadata": {
        "id": "6348aVS7U8rU"
      },
      "source": [
        "# Table 2\n",
        "products.write.jdbc(url=jdbc_url, table='products', mode=mode, properties=config)"
      ],
      "execution_count": null,
      "outputs": []
    },
    {
      "cell_type": "code",
      "metadata": {
        "id": "OW3SdwVEU-X_"
      },
      "source": [
        "# Table 3\n",
        "customers.write.jdbc(url=jdbc_url, table='customers', mode=mode, properties=config)"
      ],
      "execution_count": null,
      "outputs": []
    },
    {
      "cell_type": "code",
      "metadata": {
        "id": "kmylHEtSVAFd"
      },
      "source": [
        "# Table 4\n",
        "vine_table.write.jdbc(url=jdbc_url, table='vine_table', mode=mode, properties=config)"
      ],
      "execution_count": null,
      "outputs": []
    }
  ]
}